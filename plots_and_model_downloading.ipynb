{
  "nbformat": 4,
  "nbformat_minor": 0,
  "metadata": {
    "colab": {
      "name": "lab_task1_plots.ipynb",
      "provenance": []
    },
    "kernelspec": {
      "name": "python3",
      "display_name": "Python 3"
    },
    "language_info": {
      "name": "python"
    }
  },
  "cells": [
    {
      "cell_type": "code",
      "execution_count": null,
      "metadata": {
        "id": "BS0sbb0DnQQo"
      },
      "outputs": [],
      "source": [
        "import pandas as pd\n",
        "import numpy as np\n",
        "import os\n",
        "import pickle"
      ]
    },
    {
      "cell_type": "markdown",
      "source": [
        "# Lab 1- Spessis detection"
      ],
      "metadata": {
        "id": "5Jd5Sd6KRK2m"
      }
    },
    {
      "cell_type": "code",
      "source": [
        "df = pd.read_csv('X_train_no_poly.csv')  "
      ],
      "metadata": {
        "id": "2o6ZMpEGnsPm"
      },
      "execution_count": null,
      "outputs": []
    },
    {
      "cell_type": "code",
      "source": [
        "df.shape"
      ],
      "metadata": {
        "colab": {
          "base_uri": "https://localhost:8080/"
        },
        "id": "iqzmq8c6LzMg",
        "outputId": "ee81cd4d-7637-4288-e4d5-a612844740eb"
      },
      "execution_count": null,
      "outputs": [
        {
          "output_type": "execute_result",
          "data": {
            "text/plain": [
              "(5660, 77)"
            ]
          },
          "metadata": {},
          "execution_count": 36
        }
      ]
    },
    {
      "cell_type": "code",
      "source": [
        "df.dropna(inplace = True)"
      ],
      "metadata": {
        "id": "4YjiJAZxL1ei"
      },
      "execution_count": null,
      "outputs": []
    },
    {
      "cell_type": "code",
      "source": [
        "from sklearn.preprocessing import PolynomialFeatures"
      ],
      "metadata": {
        "id": "nvYKgyhMf5Fi"
      },
      "execution_count": null,
      "outputs": []
    },
    {
      "cell_type": "code",
      "source": [
        "def poly_transformation(df):\n",
        "  degree = 2\n",
        "  polynomialFeatures = PolynomialFeatures(degree)\n",
        "  X_transformed = polynomialFeatures.fit_transform(df)\n",
        "  X_transformed = np.append(X_transformed, df, axis=1)\n",
        "  print(f'The polynomial feature engneering added {X_transformed.shape[1]-df.shape[1]} features')\n",
        "  return X_transformed"
      ],
      "metadata": {
        "id": "HLtQXTXbflLu"
      },
      "execution_count": null,
      "outputs": []
    },
    {
      "cell_type": "code",
      "source": [
        "df_train = df.sample(frac= 0.75, random_state = 42)\n",
        "df_test = df.sample(frac= 0.25, random_state = 42)\n"
      ],
      "metadata": {
        "id": "dpstY1elk8yb"
      },
      "execution_count": null,
      "outputs": []
    },
    {
      "cell_type": "code",
      "source": [
        "df_train.shape"
      ],
      "metadata": {
        "colab": {
          "base_uri": "https://localhost:8080/"
        },
        "id": "vbf7LerulGM_",
        "outputId": "ff58eec4-cb33-495f-bf8b-f5300354c69e"
      },
      "execution_count": null,
      "outputs": [
        {
          "output_type": "execute_result",
          "data": {
            "text/plain": [
              "(4245, 78)"
            ]
          },
          "metadata": {},
          "execution_count": 6
        }
      ]
    },
    {
      "cell_type": "code",
      "source": [
        "np.all(np.isfinite(df))"
      ],
      "metadata": {
        "colab": {
          "base_uri": "https://localhost:8080/"
        },
        "id": "VQnZIxnNKEUK",
        "outputId": "cafde7b2-0674-47f1-ebb9-7eedc9b95d29"
      },
      "execution_count": null,
      "outputs": [
        {
          "output_type": "execute_result",
          "data": {
            "text/plain": [
              "True"
            ]
          },
          "metadata": {},
          "execution_count": 4
        }
      ]
    },
    {
      "cell_type": "code",
      "source": [
        "# df_train = poly_transformation(df_train)\n",
        "# df_test = poly_transformation(df_test)"
      ],
      "metadata": {
        "id": "bd6oZe1snfFp"
      },
      "execution_count": null,
      "outputs": []
    },
    {
      "cell_type": "code",
      "source": [
        "from imblearn.under_sampling import RandomUnderSampler\n"
      ],
      "metadata": {
        "id": "i2cDD9AMhXxs"
      },
      "execution_count": null,
      "outputs": []
    },
    {
      "cell_type": "code",
      "source": [
        "def down_sampling(df):\n",
        "  columns = df.columns\n",
        "  feature_names = columns[:-1]\n",
        "  target_name = columns[-1]\n",
        "  X, y = (RandomUnderSampler(sampling_strategy=1/3, random_state=42)\n",
        "        .fit_resample(df.drop(target_name, axis=1), df[target_name]))\n",
        "\n",
        "  rus_df = pd.DataFrame(np.concatenate((X, y[:, None]), axis=1),\n",
        "                        columns=list(feature_names) + [target_name])\n",
        "  print('# Data:', len(rus_df))\n",
        "  print('% Undersampled + Dropped NA / Original:', 100 * len(rus_df) / len(df))\n",
        "  print('% Positive target:', rus_df[target_name].mean() * 100)\n",
        "  return rus_df"
      ],
      "metadata": {
        "id": "snri8PBih1Xe"
      },
      "execution_count": null,
      "outputs": []
    },
    {
      "cell_type": "code",
      "source": [
        "# df = down_sampling(df)"
      ],
      "metadata": {
        "colab": {
          "base_uri": "https://localhost:8080/"
        },
        "id": "JT8s8_IPiuOF",
        "outputId": "ec7a0649-981b-4427-98d7-748d601f9888"
      },
      "execution_count": null,
      "outputs": [
        {
          "output_type": "stream",
          "name": "stdout",
          "text": [
            "# Data: 2964\n",
            "% Undersampled + Dropped NA / Original: 29.64\n",
            "% Positive target: 25.0\n"
          ]
        },
        {
          "output_type": "stream",
          "name": "stderr",
          "text": [
            "/usr/local/lib/python3.7/dist-packages/ipykernel_launcher.py:8: FutureWarning: Support for multi-dimensional indexing (e.g. `obj[:, None]`) is deprecated and will be removed in a future version.  Convert to a numpy array before indexing instead.\n",
            "  \n"
          ]
        }
      ]
    },
    {
      "cell_type": "markdown",
      "source": [
        "##Training models"
      ],
      "metadata": {
        "id": "VzSqCtRPQU2K"
      }
    },
    {
      "cell_type": "code",
      "source": [
        "import pandas as pd\n",
        "import random\n",
        "import time\n",
        "from sklearn import metrics\n",
        "import matplotlib.pyplot as plt\n",
        "import numpy as np\n",
        "from imblearn.under_sampling import RandomUnderSampler\n",
        "from sklearn.preprocessing import PolynomialFeatures\n",
        "import os\n",
        "from sklearn.tree import DecisionTreeClassifier\n",
        "from sklearn.ensemble import RandomForestClassifier\n",
        "from sklearn.ensemble import GradientBoostingClassifier\n",
        "from sklearn.pipeline import make_pipeline\n",
        "from sklearn.preprocessing import StandardScaler\n",
        "from sklearn.svm import SVC\n",
        "from sklearn.metrics import f1_score, classification_report\n",
        "from sklearn.model_selection import train_test_split"
      ],
      "metadata": {
        "id": "_7p2BJBhNQbn"
      },
      "execution_count": null,
      "outputs": []
    },
    {
      "cell_type": "code",
      "source": [
        "from sklearn.metrics import recall_score, precision_score"
      ],
      "metadata": {
        "id": "GVyjTaxiFJ6y"
      },
      "execution_count": null,
      "outputs": []
    },
    {
      "cell_type": "markdown",
      "source": [
        "Roc graph plot"
      ],
      "metadata": {
        "id": "0olXJLmiQXmQ"
      }
    },
    {
      "cell_type": "code",
      "source": [
        "def plots(Y):\n",
        "    y_test1, y_pred1, y_test2, y_pred2, y_test3, y_pred3, y_test4, y_pred4, y_test5, y_pred5= Y\n",
        "    plt.figure(0).clf()\n",
        "\n",
        "    # SVM\n",
        "    fpr, tpr, _ = metrics.roc_curve(y_test1, y_pred1)\n",
        "    auc = round(metrics.roc_auc_score(y_test1, y_pred1), 4)\n",
        "    plt.plot(fpr, tpr, label=\"SVM, AUC=\" + str(auc))\n",
        "\n",
        "    # Decision Tree\n",
        "    fpr, tpr, _ = metrics.roc_curve(y_test2, y_pred2)\n",
        "    auc = round(metrics.roc_auc_score(y_test2, y_pred2), 4)\n",
        "    plt.plot(fpr, tpr, label=\"Decision Tree, AUC=\" + str(auc))\n",
        "\n",
        "    # Random Forest\n",
        "    fpr, tpr, _ = metrics.roc_curve(y_test3, y_pred3)\n",
        "    auc = round(metrics.roc_auc_score(y_test3, y_pred3), 4)\n",
        "    plt.plot(fpr, tpr, label=\"Random Forest, AUC=\" + str(auc))\n",
        "\n",
        "    # Gradient Boosting\n",
        "    fpr, tpr, _ = metrics.roc_curve(y_test4, y_pred4)\n",
        "    auc = round(metrics.roc_auc_score(y_test4, y_pred4), 4)\n",
        "    plt.plot(fpr, tpr, label=\"Gradient Boosting, AUC=\" + str(auc))\n",
        "\n",
        "    # Ensembled model \n",
        "    fpr, tpr, _ = metrics.roc_curve(y_test5, y_pred5)\n",
        "    auc = round(metrics.roc_auc_score(y_test5, y_pred5), 4)\n",
        "    plt.plot(fpr, tpr, label=\"Ensembled model, AUC=\" + str(auc))\n",
        "\n",
        "    # Legend\n",
        "    plt.legend()\n",
        "    plt.title('ROC Curve')\n",
        "    plt.savefig('output3.jpg')\n",
        "    plt.show()\n"
      ],
      "metadata": {
        "id": "1X6hwCFBNL1v"
      },
      "execution_count": null,
      "outputs": []
    },
    {
      "cell_type": "code",
      "source": [
        "seed = 42\n",
        "random.seed(42)\n",
        "# train_prep = time.time()\n",
        "# X_train, y_train = preprocess('train')\n",
        "X_train = pd.read_csv('X_train_no_poly.csv') \n",
        "y_train = pd.read_csv('y_train.csv') \n",
        "# down sampling\n",
        "# X_train = poly_transformation(X_train)\n",
        "\n",
        "# X_train = pd.read_csv('X_train.csv')\n",
        "# y_train = pd.read_csv('y_train.csv')\n",
        "# X_train.to_csv('X_train.csv')\n",
        "# y_train.to_csv('y_train.csv')\n",
        "models = [(SVC(random_state=42), 'SVM'), (DecisionTreeClassifier(random_state=42), 'Decision Tree'),\n",
        "          (RandomForestClassifier(n_estimators=300, random_state=42), 'Random Forest'),\n",
        "          (GradientBoostingClassifier(n_estimators=500, random_state=42), 'Gradient Boosting')]\n",
        "X_test =  pd.read_csv('X_test_no_poly.csv')\n",
        "y_test = pd.read_csv('y_test.csv')\n",
        "\n",
        "# down sampling\n",
        "# X_test = poly_transformation(X_test)\n",
        "\n"
      ],
      "metadata": {
        "id": "wY8wWtlRNCqh"
      },
      "execution_count": null,
      "outputs": []
    },
    {
      "cell_type": "code",
      "source": [
        "# only in case that you read the new CSV to ignore the id column\n",
        "X_test = X_test.iloc[:,1:]\n",
        "X_train = X_train.iloc[:,1:]\n",
        "y_train = y_train.iloc[:,1]\n",
        "y_test = y_test.iloc[:,1]"
      ],
      "metadata": {
        "id": "nafSbL66aGh0"
      },
      "execution_count": null,
      "outputs": []
    },
    {
      "cell_type": "code",
      "source": [
        "# X_train = poly_transformation(X_train)\n"
      ],
      "metadata": {
        "colab": {
          "base_uri": "https://localhost:8080/"
        },
        "id": "Q07XQZpvhzAS",
        "outputId": "d86273f7-882e-46c4-ec98-c18ad46b221e"
      },
      "execution_count": null,
      "outputs": [
        {
          "output_type": "stream",
          "name": "stdout",
          "text": [
            "The polynomial feature engneering added 3003 features\n"
          ]
        }
      ]
    },
    {
      "cell_type": "code",
      "source": [
        "# X_test = poly_transformation(X_test)\n"
      ],
      "metadata": {
        "colab": {
          "base_uri": "https://localhost:8080/"
        },
        "id": "qMI2iijNh0BN",
        "outputId": "bfba4e75-00e9-4e2e-be1b-8f2e8fcaf671"
      },
      "execution_count": null,
      "outputs": [
        {
          "output_type": "stream",
          "name": "stdout",
          "text": [
            "The polynomial feature engneering added 3003 features\n"
          ]
        }
      ]
    },
    {
      "cell_type": "markdown",
      "source": [
        "### Train models"
      ],
      "metadata": {
        "id": "tfZtV01zQtnj"
      }
    },
    {
      "cell_type": "code",
      "source": [
        "seed = 42\n",
        "random.seed(42)\n",
        "train_prep = time.time()\n",
        "Y = []\n",
        "models_Y = []\n",
        "for model, model_name in models:\n",
        "    clf = make_pipeline(StandardScaler(), model)\n",
        "    clf.fit(X_train, y_train)\n",
        "    pickle.dump(clf, open(model_name, 'wb'))\n",
        "    test_prep = time.time()\n",
        "    # X_test = pd.read_csv('X_test.csv')\n",
        "    # y_test = pd.read_csv('y_test.csv')\n",
        "    print(f'train preprocess time: {time.time() - test_prep}')\n",
        "\n",
        "    # X_train.to_csv('X_test.csv')\n",
        "    # y_train.to_csv('y_test.csv')\n",
        "    y_pred = clf.predict(X_test)\n",
        "    print(f'{model_name} - F1 score is:{f1_score(y_test, y_pred)}')\n",
        "    print(f'{model_name} - recall score is:{recall_score(y_test, y_pred)}')\n",
        "    print(f'{model_name} - precision score is:{precision_score(y_test, y_pred)}')\n",
        "\n",
        "    target_names = ['class 0', 'class 1']\n",
        "    # print(classification_report(y_test, y_pred, target_names=target_names))\n",
        "    Y.append(y_test)\n",
        "    Y.append(y_pred)\n",
        "    models_Y.append(y_pred)\n",
        "models_df = pd.DataFrame()\n",
        "m_models = ['SVM', 'Decision Tree',\n",
        "          'Random Forest','Gradient Boosting']\n",
        "for i, model_res in enumerate(models_Y):\n",
        "  model_res = np.array(model_res)\n",
        "  models_df[m_models[i]] = model_res\n",
        "models_df.drop(['Decision Tree'], axis =1, inplace =True)\n",
        "y_pred_new = [1 if np.sum(row) >= 2 else 0 for row in models_df.values]\n",
        "print(f'Ensembled - F1 score is:{f1_score(y_test, y_pred_new)}')\n",
        "print(f'Ensembled - recall score is:{recall_score(y_test, y_pred_new)}')\n",
        "print(f'Ensembled - precision score is:{precision_score(y_test, y_pred_new)}')\n",
        "\n",
        "Y.append(y_test)\n",
        "Y.append(y_pred_new)\n",
        "plots(Y)\n",
        "print(f'Total time: {time.time() - train_prep}')"
      ],
      "metadata": {
        "colab": {
          "base_uri": "https://localhost:8080/"
        },
        "id": "Q8xqY4i1Nqwe",
        "outputId": "6db19020-daea-4606-ccf0-3a7367351f66"
      },
      "execution_count": null,
      "outputs": [
        {
          "output_type": "stream",
          "name": "stdout",
          "text": [
            "train preprocess time: 3.5762786865234375e-06\n",
            "SVM - F1 score is:0.6112469437652812\n",
            "SVM - recall score is:0.5060728744939271\n",
            "SVM - precision score is:0.7716049382716049\n",
            "train preprocess time: 3.0994415283203125e-06\n",
            "Decision Tree - F1 score is:0.39376893119861534\n",
            "Decision Tree - recall score is:0.6140350877192983\n",
            "Decision Tree - precision score is:0.2898089171974522\n",
            "train preprocess time: 6.4373016357421875e-06\n",
            "Random Forest - F1 score is:0.6853352984524688\n",
            "Random Forest - recall score is:0.6275303643724697\n",
            "Random Forest - precision score is:0.7548701298701299\n",
            "train preprocess time: 3.0994415283203125e-06\n",
            "Gradient Boosting - F1 score is:0.6613946800862689\n",
            "Gradient Boosting - recall score is:0.6207827260458839\n",
            "Gradient Boosting - precision score is:0.7076923076923077\n",
            "Ensembled - F1 score is:0.6873580620741863\n",
            "Ensembled - recall score is:0.6126855600539811\n",
            "Ensembled - precision score is:0.7827586206896552\n"
          ]
        },
        {
          "output_type": "display_data",
          "data": {
            "text/plain": [
              "<Figure size 432x288 with 1 Axes>"
            ],
            "image/png": "[encoded data removed]"
          },
          "metadata": {
            "needs_background": "light"
          }
        },
        {
          "output_type": "stream",
          "name": "stdout",
          "text": [
            "Total time: 77.30935978889465\n"
          ]
        }
      ]
    },
    {
      "cell_type": "markdown",
      "source": [
        "###script for predict.py"
      ],
      "metadata": {
        "id": "pwUr1PDwQznt"
      }
    },
    {
      "cell_type": "code",
      "source": [
        "   #Script\n",
        "    # Parsing script arguments\n",
        "    # parser = argparse.ArgumentParser(description='Process input')\n",
        "    # parser.add_argument('input_folder', type=str, help='Input folder path, containing images')\n",
        "    # args = parser.parse_args()\n",
        "    # X, y = preprocessing(test, args.input_folder)\n",
        "    # models_names = ['SVM','Random Forest', 'Gradient Boosting']\n",
        "    # predictions = []\n",
        "    # models_dataframe = pd.Dataframe()\n",
        "    # for model_name in models_names:\n",
        "    #   clf = pickle.load(open(model_name, 'rb'))\n",
        "    #   y_pred = clf.predict(X)\n",
        "    #   predictions.append(y_pred)\n",
        "    # for prediction in enumerate(predictions):\n",
        "    #   model_res = np.array(model_res)\n",
        "    #   models_dataframe[m_models[i]] = model_res\n",
        "    # y_pred_new = [1 if np.sum(row) >= 2 else 0 for row in models_dataframe.values]\n",
        "    # final_df['id'] = X.index.values\n",
        "    # final_df['SepsisLabel'] = np.array(y_pred_new)\n",
        "    # final_df.to_csv('prediction.csv')"
      ],
      "metadata": {
        "id": "cHkBjbn-pY3e"
      },
      "execution_count": null,
      "outputs": []
    },
    {
      "cell_type": "markdown",
      "source": [
        "## MLP and XGBoost tries (did not provide better results)"
      ],
      "metadata": {
        "id": "gKvCzvcbQ-CO"
      }
    },
    {
      "cell_type": "code",
      "source": [
        "from sklearn.neural_network import MLPClassifier"
      ],
      "metadata": {
        "id": "lh0izVBdt6Vg"
      },
      "execution_count": null,
      "outputs": []
    },
    {
      "cell_type": "code",
      "source": [
        "clf = MLPClassifier(solver='lbfgs', alpha=1e-5, hidden_layer_sizes=(1000, 200), random_state=42)"
      ],
      "metadata": {
        "id": "SeVlZ2lIt-kf"
      },
      "execution_count": null,
      "outputs": []
    },
    {
      "cell_type": "code",
      "source": [
        "clf.fit(X_train, y_train)"
      ],
      "metadata": {
        "colab": {
          "base_uri": "https://localhost:8080/"
        },
        "id": "wlGu0tjQuFUN",
        "outputId": "8295a866-e2ce-46ca-9493-2f31fc0fc517"
      },
      "execution_count": null,
      "outputs": [
        {
          "output_type": "execute_result",
          "data": {
            "text/plain": [
              "MLPClassifier(alpha=1e-05, hidden_layer_sizes=(1000, 200), random_state=42,\n",
              "              solver='lbfgs')"
            ]
          },
          "metadata": {},
          "execution_count": 147
        }
      ]
    },
    {
      "cell_type": "code",
      "source": [
        "new_preds = clf.predict(X_test)"
      ],
      "metadata": {
        "id": "j0GAZG1HudAk"
      },
      "execution_count": null,
      "outputs": []
    },
    {
      "cell_type": "code",
      "source": [
        "print(f'Ensembled - F1 score is:{f1_score(y_test, new_preds)}')"
      ],
      "metadata": {
        "colab": {
          "base_uri": "https://localhost:8080/"
        },
        "id": "BrpG5TT2uiMj",
        "outputId": "61b5647c-23c2-4f7f-b60f-aece0166a9ca"
      },
      "execution_count": null,
      "outputs": [
        {
          "output_type": "stream",
          "name": "stdout",
          "text": [
            "Ensembled - F1 score is:0.4923913043478261\n"
          ]
        }
      ]
    },
    {
      "cell_type": "code",
      "source": [
        "# from sklearn.datasets import make_hastie_10_2\n",
        "from sklearn.ensemble import GradientBoostingClassifier"
      ],
      "metadata": {
        "id": "TvS17lZkxfT3"
      },
      "execution_count": null,
      "outputs": []
    },
    {
      "cell_type": "code",
      "source": [
        "# X_train_n, y_train_n = make_hastie_10_2(random_state=0)"
      ],
      "metadata": {
        "id": "HZv3ziMgxhzQ"
      },
      "execution_count": null,
      "outputs": []
    },
    {
      "cell_type": "code",
      "source": [
        "# X_test, y_test = make_hastie_10_2(random_state=0)"
      ],
      "metadata": {
        "id": "MNpN2ilpyHX6"
      },
      "execution_count": null,
      "outputs": []
    },
    {
      "cell_type": "code",
      "source": [
        "# X_train.shape"
      ],
      "metadata": {
        "colab": {
          "base_uri": "https://localhost:8080/"
        },
        "id": "AQBLr3Trx6gB",
        "outputId": "bea75c16-e9ad-4aab-fb49-4adc78b8daa6"
      },
      "execution_count": null,
      "outputs": [
        {
          "output_type": "execute_result",
          "data": {
            "text/plain": [
              "(12000, 10)"
            ]
          },
          "metadata": {},
          "execution_count": 155
        }
      ]
    },
    {
      "cell_type": "code",
      "source": [
        "clf = GradientBoostingClassifier(n_estimators=500, learning_rate=1.0, max_depth=1, random_state=42).fit(X_train, y_train)"
      ],
      "metadata": {
        "id": "nJYFp2FQxpIn"
      },
      "execution_count": null,
      "outputs": []
    },
    {
      "cell_type": "code",
      "source": [
        "preds = clf.predict(X_test)"
      ],
      "metadata": {
        "id": "Vvhs0I6exyTB"
      },
      "execution_count": null,
      "outputs": []
    },
    {
      "cell_type": "code",
      "source": [
        "print(f'XGboost - F1 score is:{f1_score(y_test, preds)}')"
      ],
      "metadata": {
        "colab": {
          "base_uri": "https://localhost:8080/"
        },
        "id": "JgJ1Tn-WyOW4",
        "outputId": "2c00c91c-c3f5-4249-87fe-ae702c042167"
      },
      "execution_count": null,
      "outputs": [
        {
          "output_type": "stream",
          "name": "stdout",
          "text": [
            "XGboost - F1 score is:0.6472184531886024\n"
          ]
        }
      ]
    },
    {
      "cell_type": "code",
      "source": [
        "models_df.sum()"
      ],
      "metadata": {
        "colab": {
          "base_uri": "https://localhost:8080/"
        },
        "id": "KQpfwDaoyOl9",
        "outputId": "e3ce1e80-68c9-4857-95b9-f192fc1d93a7"
      },
      "execution_count": null,
      "outputs": [
        {
          "output_type": "execute_result",
          "data": {
            "text/plain": [
              "Random Forest        613.0\n",
              "Gradient Boosting    650.0\n",
              "Ensembled            733.0\n",
              "dtype: float64"
            ]
          },
          "metadata": {},
          "execution_count": 41
        }
      ]
    },
    {
      "cell_type": "code",
      "source": [
        "models_df['XGBoost'] = np.array(preds)"
      ],
      "metadata": {
        "id": "qY2hWF3KyPc-"
      },
      "execution_count": null,
      "outputs": []
    },
    {
      "cell_type": "code",
      "source": [
        "models_df.drop(['SVM'], axis = 1, inplace= True)"
      ],
      "metadata": {
        "id": "KiIo4eIiyyOv"
      },
      "execution_count": null,
      "outputs": []
    }
  ]
}